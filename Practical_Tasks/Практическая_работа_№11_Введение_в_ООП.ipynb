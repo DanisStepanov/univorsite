{
  "nbformat": 4,
  "nbformat_minor": 0,
  "metadata": {
    "colab": {
      "provenance": [],
      "include_colab_link": true
    },
    "kernelspec": {
      "name": "python3",
      "display_name": "Python 3"
    },
    "language_info": {
      "name": "python"
    }
  },
  "cells": [
    {
      "cell_type": "markdown",
      "metadata": {
        "id": "view-in-github",
        "colab_type": "text"
      },
      "source": [
        "<a href=\"https://colab.research.google.com/github/DanisStepanov/univorsite/blob/main/Practical_Tasks/%D0%9F%D1%80%D0%B0%D0%BA%D1%82%D0%B8%D1%87%D0%B5%D1%81%D0%BA%D0%B0%D1%8F_%D1%80%D0%B0%D0%B1%D0%BE%D1%82%D0%B0_%E2%84%9611_%D0%92%D0%B2%D0%B5%D0%B4%D0%B5%D0%BD%D0%B8%D0%B5_%D0%B2_%D0%9E%D0%9E%D0%9F.ipynb\" target=\"_parent\"><img src=\"https://colab.research.google.com/assets/colab-badge.svg\" alt=\"Open In Colab\"/></a>"
      ]
    },
    {
      "cell_type": "markdown",
      "source": [
        "# **Практическая работа №11. Введение в ООП**\n",
        "\n",
        "\n"
      ],
      "metadata": {
        "id": "s-EuQCpnWXCn"
      }
    },
    {
      "cell_type": "markdown",
      "source": [
        "## **Задание 1. Напишите программу с классом Car**\n",
        "* Создайте конструктор класса Car.\n",
        "* Создайте атрибуты класса Car — color (цвет), type (тип), year (год).\n",
        "* Напишите пять методов:\n",
        "> 1. Запуск автомобиля (при его вызове выводится сообщение «Автомобиль заведен»)\n",
        "> 2. Отключение автомобиля (выводит сообщение «Автомобиль заглушен»)\n",
        "> 3. Присвоение автомобилю года выпуска\n",
        "> 4. Присвоение автомобилю типа\n",
        "> 5. Присвоение автомобилю цвета"
      ],
      "metadata": {
        "id": "OvDnozzI-g-6"
      }
    },
    {
      "cell_type": "code",
      "source": [
        "class Car:\n",
        "    def __init__(self, color, car_type, year):\n",
        "        self.color = color\n",
        "        self.type = car_type\n",
        "        self.year = year\n",
        "        self.is_running = False\n",
        "\n",
        "    def start(self):\n",
        "        if not self.is_running:\n",
        "            print(\"Автомобиль заведен\")\n",
        "            self.is_running = True\n",
        "        else:\n",
        "            print(\"Автомобиль уже заведен\")\n",
        "\n",
        "    def stop(self):\n",
        "        if self.is_running:\n",
        "            print(\"Автомобиль заглушен\")\n",
        "            self.is_running = False\n",
        "        else:\n",
        "            print(\"Автомобиль уже заглушен\")\n",
        "\n",
        "    def set_year(self, new_year):\n",
        "        self.year = new_year\n",
        "        print(f\"Год выпуска изменен на {new_year}\")\n",
        "\n",
        "    def set_type(self, new_type):\n",
        "        self.type = new_type\n",
        "        print(f\"Тип автомобиля изменен на {new_type}\")\n",
        "\n",
        "    def set_color(self, new_color):\n",
        "        self.color = new_color\n",
        "        print(f\"Цвет автомобиля изменен на {new_color}\")\n",
        "\n",
        "my_car = Car(color=\"Синий\",car_type=\"Седан\" ,year=2020)\n",
        "print(my_car)\n",
        "my_car.start()\n",
        "my_car.stop()\n",
        "my_car.set_year(2023)\n",
        "my_car.set_type(\"Кроссовер\")\n",
        "my_car.set_color(\"Красный\")\n",
        "\n"
      ],
      "metadata": {
        "id": "xMYBjxjy-hIE",
        "outputId": "ae75abc9-d444-4f5e-c8ad-00c961419cbe",
        "colab": {
          "base_uri": "https://localhost:8080/"
        }
      },
      "execution_count": null,
      "outputs": [
        {
          "output_type": "stream",
          "name": "stdout",
          "text": [
            "<__main__.Car object at 0x7d3ef01aa830>\n",
            "Автомобиль заведен\n",
            "Автомобиль заглушен\n",
            "Год выпуска изменен на 2023\n",
            "Тип автомобиля изменен на Кроссовер\n",
            "Цвет автомобиля изменен на Красный\n"
          ]
        }
      ]
    },
    {
      "cell_type": "markdown",
      "source": [
        "## **Задание 2. Создайте класс Sphere для представления сферы в трехмерном пространстве**\n"
      ],
      "metadata": {
        "id": "TQ5SpdjdbD4D"
      }
    },
    {
      "cell_type": "markdown",
      "source": [
        "Обеспечьте следующие методы класса:\n",
        "\n",
        "1. Конструктор, принимающий 4 действительных числа: радиус, и 3 координаты центра шара. Если конструктор вызывается без аргументов, создать объект сферы с единичным радиусом и центром в начале координат. Если конструктор вызывается с аргументом, создать объект сферы с соответствующим радиусом и центром в начале координат.\n",
        "\n",
        "2. Метод get_volume (), который возвращает действительное число — объем шара, ограниченной текущей сферой.\n",
        "\n",
        "3. Метод get_square (), который возвращает действительное число — площадь внешней поверхности сферы.\n",
        "\n",
        "4. Метод get_radius (), который возвращает действительное число — радиус сферы.\n",
        "\n",
        "5. Метод get_center (), который возвращает тьюпл с 3 действительными числами — координатами центра сферы в том же порядке, в каком они задаются в конструкторе.\n",
        "\n",
        "6. Метод set_radius (r), который принимает 1 аргумент — действительное число, и меняет радиус текущей сферы, ничего не возвращая.\n",
        "\n",
        "7. Метод set_center (x, y, z), который принимает 3 аргумента — действительных числа, и меняет координаты центра сферы, ничего не возвращая. Координаты задаются в том же порядке, что и в конструкторе.\n",
        "\n",
        "8. Метод is_point_inside (x, y, z), который принимает 3 аргумента — действительных числа — координаты некоторой точки в пространстве (в том же порядке, что и в конструкторе), и возвращает логическое значение True или False в зависимости от того, находится эта точка внутри сферы."
      ],
      "metadata": {
        "id": "Q5Ow51wfASZH"
      }
    },
    {
      "cell_type": "code",
      "source": [
        "# Тесты\n",
        "\n",
        "s0 = Sphere(0.5) # test sphere creation with radius and default center\n",
        "print(s0.get_center()) # (0.0, 0.0, 0.0)\n",
        "print(s0.get_volume()) # 0.523598775598\n",
        "print(s0.is_point_inside(0 , -1.5, 0)) # False\n",
        "s0.set_radius(1.6)\n",
        "print(s0.is_point_inside(0, -1.5, 0)) # True\n",
        "print(s0.get_radius()) # 1.6"
      ],
      "metadata": {
        "id": "xYx3bR2Lbv42"
      },
      "execution_count": null,
      "outputs": []
    },
    {
      "cell_type": "code",
      "source": [
        "import math\n",
        "class Sphere:\n",
        "    def __init__(self, radius=1, x=0.0, y=0.0, z=0.0):\n",
        "        self.radius = radius\n",
        "        self.center = (x, y, z)\n",
        "\n",
        "    def get_volume(self):\n",
        "        return (4/3) * math.pi * self.radius**2\n",
        "\n",
        "    def get_square(self):\n",
        "        return 4 * math.pi * self.radius**2\n",
        "\n",
        "    def get_radius(self):\n",
        "        return self.radius\n",
        "\n",
        "    def get_center(self):\n",
        "        return self.center\n",
        "\n",
        "    def set_radius(self, r):\n",
        "        self.radius = r\n",
        "\n",
        "    def set_center(self, x, y, z):\n",
        "        self.center = (x, y, z)\n",
        "\n",
        "    def is_point_inside(self, x, y, z):\n",
        "        distance = math.sqrt((x - self.center[0])**2 + (y - self.center[1])**2 + (z - self.center[2])**2)\n",
        "        return distance <= self.radius\n",
        "\n",
        "\n",
        "s0 = Sphere(0.5) # test sphere creation with radius and default center\n",
        "print(s0.get_center()) # (0.0, 0.0, 0.0)\n",
        "print(s0.get_volume()) # 0.523598775598\n",
        "print(s0.is_point_inside(0 , -1.5, 0)) # False\n",
        "s0.set_radius(1.6)\n",
        "print(s0.is_point_inside(0, -1.5, 0)) # True\n",
        "print(s0.get_radius()) # 1.6"
      ],
      "metadata": {
        "id": "d-vd-AYRdBId",
        "outputId": "5916cdf4-6cfd-4f8d-93b9-346a2fa9ed92",
        "colab": {
          "base_uri": "https://localhost:8080/"
        }
      },
      "execution_count": null,
      "outputs": [
        {
          "output_type": "stream",
          "name": "stdout",
          "text": [
            "(0.0, 0.0, 0.0)\n",
            "1.0471975511965976\n",
            "False\n",
            "True\n",
            "1.6\n"
          ]
        }
      ]
    },
    {
      "cell_type": "markdown",
      "source": [
        "## **Задание 3. Создайте класс SuperStr, который наследует функциональность стандартного типа str и содержит 2 новых метода:**"
      ],
      "metadata": {
        "id": "UuJ9K_zAcaY_"
      }
    },
    {
      "cell_type": "markdown",
      "source": [
        "1. Метод is_repeatance (s), который принимает 1 аргумент s и возвращает True или False в зависимости от того, может ли текущая строку быть получена целым количеством повторов строки s. Вернуть False, если s не является строкой. Считать, что пустая строка не содержит повторов.\n",
        "\n",
        "2. Метод is_palindrom (), который возвращает True или False в зависимости от того, является ли строка палиндромом. Регистрами символов пренебрегать. Пустую строку считать палиндромом."
      ],
      "metadata": {
        "id": "GX99X81VchPW"
      }
    },
    {
      "cell_type": "code",
      "source": [
        "class SuperStr(str):\n",
        "    def __init__(self, stroka):\n",
        "        self.stroka = stroka\n",
        "\n",
        "    def is_repeatance(self, s):\n",
        "        if not isinstance(s, str):\n",
        "            return False\n",
        "        return len(self.stroka.split(s)) > 1\n",
        "\n",
        "    def is_palindrom(self):\n",
        "        return self.stroka == self.stroka[::-1]\n",
        "\n",
        "s = SuperStr(\"123123123123\")\n",
        "print(s.is_repeatance(\"123\"))  # True\n",
        "print(s.is_repeatance(\"123123\"))  # True\n",
        "print(s.is_repeatance(\"123123123123\"))  # True\n",
        "print(s.is_repeatance(\"12312\"))  # False\n",
        "print(s.is_repeatance(123))  # False\n",
        "print(s.is_palindrom())  # False\n",
        "print(s)  # 123123123123 (строка)\n",
        "print(int(s))  # 123123123123 (целое число)\n",
        "print(s + \"qwe\")  # 123123123123qwe\n",
        "p = SuperStr(\"123_321\")\n",
        "print(p.is_palindrom())  # True\n"
      ],
      "metadata": {
        "id": "LtIAKDWFdEcr",
        "outputId": "5e10991b-6e4f-49fd-ff14-4da4741869eb",
        "colab": {
          "base_uri": "https://localhost:8080/"
        }
      },
      "execution_count": null,
      "outputs": [
        {
          "output_type": "stream",
          "name": "stdout",
          "text": [
            "True\n",
            "True\n",
            "True\n",
            "True\n",
            "False\n",
            "False\n",
            "123123123123\n",
            "123123123123\n",
            "123123123123qwe\n",
            "True\n"
          ]
        }
      ]
    },
    {
      "cell_type": "code",
      "source": [
        "# Тесты\n",
        "\n",
        "s = SuperStr(\"123123123123\")\n",
        "print(s.is_repeatance(\"123\")) # True\n",
        "print(s.is_repeatance(\"123123\")) # True\n",
        "print(s.is_repeatance(\"123123123123\")) # True\n",
        "print(s.is_repeatance(\"12312\")) # False\n",
        "print(s.is_repeatance(123)) # False\n",
        "print(s.is_palindrom()) # False\n",
        "print(s) # 123123123123 (строка)\n",
        "print(int(s)) # 123123123123 (целое число)\n",
        "print(s + \"qwe\") # 123123123123qwe\n",
        "p = SuperStr(\"123_321\")\n",
        "print(p.is_palindrom()) # True"
      ],
      "metadata": {
        "id": "oRO3alwicoNp"
      },
      "execution_count": null,
      "outputs": []
    },
    {
      "cell_type": "markdown",
      "source": [
        "## **Задание 4. В коде ниже представлен класс преподавателей и класс студентов (вы можете взять этот код за основу или написать свой).**"
      ],
      "metadata": {
        "id": "m9EGwLY9jZbw"
      }
    },
    {
      "cell_type": "code",
      "source": [
        "class Student:\n",
        "    def __init__(self, name, surname, gender):\n",
        "        self.name = name\n",
        "        self.surname = surname\n",
        "        self.gender = gender\n",
        "        self.finished_courses = []\n",
        "        self.courses_in_progress = []\n",
        "        self.grades = {}\n",
        "\n",
        "    def add_courses(self, course_name):\n",
        "        self.finished_courses.append(course_name)\n",
        "\n",
        "\n",
        "class Mentor:\n",
        "    def __init__(self, name, surname):\n",
        "        self.name = name\n",
        "        self.surname = surname\n",
        "        self.courses_attached = []\n",
        "\n",
        "    def rate_hw(self, student, course, grade):\n",
        "        student.grades[course] = [grade]"
      ],
      "metadata": {
        "id": "PlqK9m7KrT6e"
      },
      "execution_count": null,
      "outputs": []
    },
    {
      "cell_type": "code",
      "source": [
        "best_student = Student('Ruoy', 'Eman', 'your_gender')\n",
        "cool_mentor = Mentor('Some', 'Buddy')\n",
        "cool_mentor.rate_hw(best_student, 'Python', 10)\n",
        "\n",
        "print(\"Имя студента: \", best_student.name)\n",
        "print(\"Имя преподавателя: \", cool_mentor.name)\n",
        "print(\"Оценки студента по курсам: \", best_student.grades)"
      ],
      "metadata": {
        "colab": {
          "base_uri": "https://localhost:8080/"
        },
        "id": "oNc1-dVaw3ee",
        "outputId": "7621e159-5ac4-48a7-8318-886013ba7692"
      },
      "execution_count": null,
      "outputs": [
        {
          "output_type": "stream",
          "name": "stdout",
          "text": [
            "Имя студента:  Ruoy\n",
            "Имя преподавателя:  Some\n",
            "Оценки студента по курсам:  {'Python': [10]}\n"
          ]
        }
      ]
    },
    {
      "cell_type": "markdown",
      "source": [
        "### **4.1. Наследование**"
      ],
      "metadata": {
        "id": "08FkYxULrxE-"
      }
    },
    {
      "cell_type": "markdown",
      "source": [
        "* Класс Mentor должен стать родительским классом для преподавателей. От него нужно реализовать наследование классов Lecturer (лекторы) и Reviewer (эксперты, проверяющие домашние задания).\n",
        "\n",
        "> Имя, фамилю и список закрепленных курсов логично реализовать на уровне родительского класса."
      ],
      "metadata": {
        "id": "YNjsCv5ItOii"
      }
    },
    {
      "cell_type": "code",
      "source": [
        "class Student:\n",
        "    def __init__(self, name, surname, gender):\n",
        "        self.name = name\n",
        "        self.surname = surname\n",
        "        self.gender = gender\n",
        "        self.finished_courses = []\n",
        "        self.courses_in_progress = []\n",
        "        self.grades = {}\n",
        "\n",
        "    def add_courses(self, course_name):\n",
        "        self.finished_courses.append(course_name)\n",
        "\n",
        "\n",
        "class Mentor:\n",
        "    def __init__(self, name, surname):\n",
        "        self.name = name\n",
        "        self.surname = surname\n",
        "        self.courses_attached = []\n",
        "\n",
        "    def rate_hw(self, student, course, grade):\n",
        "        student.grades[course] = [grade]\n",
        "\n",
        "\n",
        "class Lecturer(Mentor):\n",
        "    def __init__(self, name, surname):\n",
        "        super().__init__(name, surname)\n",
        "        self.lecturer_courses = []\n",
        "\n",
        "    def add_lecturer_course(self, course_name):\n",
        "        self.lecturer_courses.append(course_name)\n",
        "\n",
        "\n",
        "class Reviewer(Mentor):\n",
        "    def __init__(self, name, surname):\n",
        "        super().__init__(name, surname)\n",
        "        self.reviewer_courses = []\n",
        "\n",
        "    def add_reviewer_course(self, course_name):\n",
        "        self.reviewer_courses.append(course_name)\n",
        "\n",
        "\n",
        "\n",
        "lecturer = Lecturer(\"Лариса\", \"Васильевна\")\n",
        "lecturer.add_lecturer_course(\"Химия\")\n",
        "print(lecturer.name, lecturer.surname, lecturer.lecturer_courses)\n",
        "\n",
        "reviewer = Reviewer(\"Надежда\", \"Алесандровна\")\n",
        "reviewer.add_reviewer_course(\"Информатика\")\n",
        "print(reviewer.name, reviewer.surname, reviewer.reviewer_courses)\n",
        "\n",
        "\n"
      ],
      "metadata": {
        "id": "1quZPRZKtIoc",
        "outputId": "bdaec692-ad78-4398-f322-e03342d8c863",
        "colab": {
          "base_uri": "https://localhost:8080/"
        }
      },
      "execution_count": null,
      "outputs": [
        {
          "output_type": "stream",
          "name": "stdout",
          "text": [
            "Лариса Васильевна ['Химия']\n",
            "Надежда Алесандровна ['Информатика']\n"
          ]
        }
      ]
    },
    {
      "cell_type": "markdown",
      "source": [
        "### **4.2. Атрибуты и взаимодействие классов**"
      ],
      "metadata": {
        "id": "oL8kB-uUtH5K"
      }
    },
    {
      "cell_type": "markdown",
      "source": [
        "* Реализуйте возможность проставления оценок студентам только Reviewer-ам (реализуйте такой метод).\n",
        "\n",
        "* Реализуйте метод выставления оценок лекторам у класса Student (оценки по 10-балльной шкале, хранятся в атрибуте-словаре у Lecturer, в котором ключи – названия курсов, а значения – списки оценок). Лектор при этом должен быть закреплен за тем курсом, на который записан студент (реализовать проверку)."
      ],
      "metadata": {
        "id": "ddcuJFCksWsY"
      }
    },
    {
      "cell_type": "code",
      "source": [
        "class Student:\n",
        "    def __init__(self, name, surname, gender):\n",
        "        self.name = name\n",
        "        self.surname = surname\n",
        "        self.gender = gender\n",
        "        self.finished_courses = []\n",
        "        self.courses_in_progress = []\n",
        "        self.grades = {}\n",
        "\n",
        "    def add_courses(self, course_name):\n",
        "        self.finished_courses.append(course_name)\n",
        "\n",
        "    def rate_lecturer(self, lecturer, course, grade):\n",
        "        if course in self.courses_in_progress and course in lecturer.courses_attached:\n",
        "            if course in lecturer.grades:\n",
        "                lecturer.grades[course].append(grade)\n",
        "            else:\n",
        "                lecturer.grades[course] = [grade]\n",
        "\n",
        "class Mentor:\n",
        "    def __init__(self, name, surname):\n",
        "        self.name = name\n",
        "        self.surname = surname\n",
        "        self.courses_attached = []\n",
        "        self.grades = {}\n",
        "\n",
        "    def rate_hw(self, student, course, grade):\n",
        "        if course in self.courses_attached:\n",
        "            if course in self.grades:\n",
        "                self.grades[course][student] = grade\n",
        "            else:\n",
        "                self.grades[course] = {student: grade}\n",
        "\n",
        "class Reviewer(Mentor):\n",
        "    def rate_student(self, student, course, grade):\n",
        "        if course in student.courses_in_progress and course in self.courses_attached:\n",
        "            if course in student.grades:\n",
        "                student.grades[course].append(grade)\n",
        "            else:\n",
        "                student.grades[course] = [grade]\n",
        "\n",
        "student1 = Student(\"Алексей\", \"Степанов\", \"Мужской\")\n",
        "reviewer1 = Reviewer(\"Алиса\", \"Калашникова\")\n",
        "lecturer1 = Mentor(\"Дмитрий\", \"Алексеев\")\n",
        "\n",
        "student1.courses_in_progress.append(\"Математика\")\n",
        "\n",
        "reviewer1.courses_attached.append(\"Математика\")\n",
        "lecturer1.courses_attached.append(\"Математика\")\n",
        "\n",
        "reviewer1.rate_student(student1, \"Математика\", 5)\n",
        "\n",
        "student1.rate_lecturer(lecturer1, \"Математика\", 9)\n",
        "\n",
        "print(reviewer1.name,reviewer1.surname,student1.grades)\n",
        "print(lecturer1.name,lecturer1.surname,lecturer1.grades)\n"
      ],
      "metadata": {
        "id": "U30yyvuirv6H",
        "outputId": "489fa8ab-e263-41de-a9d2-7526a5e890c5",
        "colab": {
          "base_uri": "https://localhost:8080/"
        }
      },
      "execution_count": null,
      "outputs": [
        {
          "output_type": "stream",
          "name": "stdout",
          "text": [
            "Алиса Калашникова {'Математика': [5]}\n",
            "Дмитрий Алексеев {'Математика': [9]}\n"
          ]
        }
      ]
    },
    {
      "cell_type": "markdown",
      "source": [
        "### **4.3. Полиморфизм и магические методы**"
      ],
      "metadata": {
        "id": "i6PrwEBSu39u"
      }
    },
    {
      "cell_type": "markdown",
      "source": [
        "Перегрузите магический метод \\_\\_str__ у всех классов.\n",
        "У проверяющих он должен выводить информацию в следующем виде:\n",
        "\n",
        "\n",
        "\n",
        "```\n",
        "print(some_reviewer)\n",
        "Имя: Some\n",
        "Фамилия: Buddy\n",
        "```\n",
        "\n",
        "У лекторов:\n",
        "\n",
        "\n",
        "\n",
        "```\n",
        "print(some_lecturer)\n",
        "Имя: Some\n",
        "Фамилия: Buddy\n",
        "Средняя оценка за лекции: 9.9\n",
        "```\n",
        "\n",
        "А у студентов так:\n",
        "\n",
        "\n",
        "\n",
        "```\n",
        "print(some_student)\n",
        "Имя: Ruoy\n",
        "Фамилия: Eman\n",
        "Средняя оценка за домашние задания: 9.9\n",
        "Курсы в процессе изучения: Python, Git\n",
        "Завершенные курсы: Введение в программирование\n",
        "```\n",
        "\n",
        "\n",
        "\n"
      ],
      "metadata": {
        "id": "GvmtjlnmvF8b"
      }
    },
    {
      "cell_type": "code",
      "source": [
        "class Student:\n",
        "    def __init__(self, name, surname, gender):\n",
        "        self.name = name\n",
        "        self.surname = surname\n",
        "        self.gender = gender\n",
        "        self.finished_courses = []\n",
        "        self.courses_in_progress = []\n",
        "        self.grades = {}\n",
        "\n",
        "    def __str__(self):\n",
        "        return (f\"Имя: {self.name} \\n\"\n",
        "                f\"Фамилия: {self.surname} \\n\"\n",
        "                f\"Средняя оценка за домашние задания:  {self.get_average_grade_of_student()}\\n\"\n",
        "                f\"Курсы в процессе обучения: {self.courses_in_progress} \\n\"\n",
        "                f\"Завершённые курсы: {self.finished_courses}\")\n",
        "\n",
        "    def get_average_grade_of_student(self):\n",
        "        grades_dictionary = self.grades\n",
        "        n = len(grades_dictionary)\n",
        "        sum_grades = sum([sum(grades_dictionary[x]) for x in grades_dictionary])\n",
        "        return sum_grades / n\n",
        "\n",
        "\n",
        "    def add_courses(self, course_name):\n",
        "        self.finished_courses.append(course_name)\n",
        "\n",
        "    def rate_lecturer(self, lecturer, course, grade):\n",
        "        if (course in self.courses_in_progress or course in self.finished_courses) and course in lecturer.courses_attached and 10 >= grade > 0:\n",
        "            if course in lecturer.grades:\n",
        "                lecturer.grades[course].append(grade)\n",
        "            else:\n",
        "                lecturer.grades[course] = [grade]\n",
        "        else:\n",
        "            print('Введите число от 1 до 10 для отметки')\n",
        "\n",
        "\n",
        "class Mentor:\n",
        "    def __init__(self, name, surname):\n",
        "        self.name = name\n",
        "        self.surname = surname\n",
        "        self.courses_attached = []\n",
        "        # self.students = students\n",
        "        self.grades = {}\n",
        "\n",
        "\n",
        "    def rate_hw(self, student, course, grade):\n",
        "        if course in self.courses_attached:\n",
        "            if course in self.grades:\n",
        "                self.grades[course][student] = grade\n",
        "            else:\n",
        "                self.grades[course] = {student: grade}\n",
        "\n",
        "\n",
        "\n",
        "\n",
        "\n",
        "\n",
        "class Reviewer(Mentor):\n",
        "    def __init__(self, name, surname):\n",
        "        super().__init__(name, surname)\n",
        "        self.reviewer_courses = []\n",
        "\n",
        "    def add_reviewer_course(self, course_name):\n",
        "        self.reviewer_courses.append(course_name)\n",
        "\n",
        "    def __str__(self):\n",
        "        return (f\"Имя: {self.name} \\n\"\n",
        "                f\"Фамилия: {self.surname}\")\n",
        "\n",
        "    def rate_student(self, student, course, grade):\n",
        "        if (\n",
        "                course in student.courses_in_progress or course in student.finished_courses) and course in self.courses_attached and (\n",
        "                10 >= grade > 0):\n",
        "            if course in student.grades:\n",
        "                student.grades[course].append(grade)\n",
        "            else:\n",
        "                student.grades[course] = [grade]\n",
        "        else:\n",
        "            print('Выставлена неправильная отметка, число должно быть от 1 до 10')\n",
        "\n",
        "\n",
        "\n",
        "\n",
        "class Lecturer(Mentor):\n",
        "    def __init__(self, name, surname):\n",
        "        super().__init__(name, surname)\n",
        "        self.lecturer_courses = []\n",
        "\n",
        "    def __str__(self):\n",
        "        return (f\"Имя: {self.name} \\n\"\n",
        "                f\"Фамилия: {self.surname} \\n\"\n",
        "                f\"Средняя оценка за лекции: {self.get_average_grade_of_lector()}\")\n",
        "\n",
        "    def get_average_grade_of_lector(self):\n",
        "        grades_dictionary = self.grades\n",
        "        n = len(grades_dictionary)\n",
        "        sum_grades = sum([sum(grades_dictionary[x]) for x in grades_dictionary])\n",
        "        return sum_grades / n\n",
        "\n",
        "\n",
        "\n",
        "\n",
        "# 4.3\n",
        "student1 = Student(\"Денис\", \"Степанов\", \"Мужской\")\n",
        "reviewer1 = Reviewer(\"Андрей\", \"Пучков\")\n",
        "reviewer2 = Reviewer('Артём', 'Беспечалов')\n",
        "lecturer1 = Lecturer(\"Матвей\", \"Афанасьев\")\n",
        "print()\n",
        "student1.add_courses('Физика')\n",
        "student1.courses_in_progress.append(\"Математика\")\n",
        "\n",
        "reviewer1.courses_attached.append(\"Математика\")\n",
        "reviewer2.courses_attached.append('Физика')\n",
        "reviewer1.courses_attached.append(\"Математика\")\n",
        "lecturer1.courses_attached.append(\"Математика\")\n",
        "\n",
        "reviewer2.rate_student(student1, 'Физика', 10)\n",
        "reviewer1.rate_student(student1, \"Математика\", 5)\n",
        "student1.rate_lecturer(lecturer1, \"Математика\", 10)\n",
        "\n",
        "print(str(student1))\n",
        "\n",
        "\n",
        "print()\n",
        "print(str(lecturer1))\n",
        "\n",
        "\n",
        "print()\n",
        "print(str(reviewer1))\n"
      ],
      "metadata": {
        "id": "gCJAL_EmwU0b",
        "outputId": "aa532f75-dc47-4cd3-d4d8-fb1dabc5e798",
        "colab": {
          "base_uri": "https://localhost:8080/"
        }
      },
      "execution_count": 1,
      "outputs": [
        {
          "output_type": "stream",
          "name": "stdout",
          "text": [
            "\n",
            "Имя: Денис \n",
            "Фамилия: Степанов \n",
            "Средняя оценка за домашние задания:  7.5\n",
            "Курсы в процессе обучения: ['Математика'] \n",
            "Завершённые курсы: ['Физика']\n",
            "\n",
            "Имя: Матвей \n",
            "Фамилия: Афанасьев \n",
            "Средняя оценка за лекции: 10.0\n",
            "\n",
            "Имя: Андрей \n",
            "Фамилия: Пучков\n"
          ]
        }
      ]
    },
    {
      "cell_type": "markdown",
      "source": [
        "**Реализуйте перегрузку других магических методов на Ваш выбор (не менее трёх), из тех, что были изучены на паре, руководствуясь по смыслу контекстом представленных классов (студенты, преподаватели, оценки и т.д.)**"
      ],
      "metadata": {
        "id": "1DNE4TE3vfYI"
      }
    },
    {
      "cell_type": "code",
      "source": [
        "class Student:\n",
        "    def __init__(self, name, surname, gender):\n",
        "        self.name = name\n",
        "        self.surname = surname\n",
        "        self.gender = gender\n",
        "        self.finished_courses = []\n",
        "        self.courses_in_progress = []\n",
        "        self.grades = {}\n",
        "\n",
        "    def __str__(self):\n",
        "        return (f\"Имя: {self.name} \\n\"\n",
        "                f\"Фамилия: {self.surname} \\n\"\n",
        "                f\"Средняя оценка за домашние задания:  {self.get_average_grade_of_student()}\\n\"\n",
        "                f\"Курсы в процессе обучения: {self.courses_in_progress} \\n\"\n",
        "                f\"Завершённые курсы: {self.finished_courses}\")\n",
        "\n",
        "    def get_average_grade_of_student(self):\n",
        "        grades_dictionary = self.grades\n",
        "        n = len(grades_dictionary)\n",
        "        sum_grades = sum([sum(grades_dictionary[x]) for x in grades_dictionary])\n",
        "        return sum_grades / n\n",
        "\n",
        "    def __bool__(self):\n",
        "        if self.get_average_grade_of_student() == 10.0:\n",
        "            return True\n",
        "        else:\n",
        "            return False\n",
        "\n",
        "    def __int__(self):\n",
        "        return len(self.finished_courses) + len(self.courses_in_progress)\n",
        "\n",
        "    def add_courses(self, course_name):\n",
        "        self.finished_courses.append(course_name)\n",
        "\n",
        "    def rate_lecturer(self, lecturer, course, grade):\n",
        "        if (course in self.courses_in_progress or course in self.finished_courses) and course in lecturer.courses_attached and 10 >= grade > 0:\n",
        "            if course in lecturer.grades:\n",
        "                lecturer.grades[course].append(grade)\n",
        "            else:\n",
        "                lecturer.grades[course] = [grade]\n",
        "        else:\n",
        "            print('Введите число от 1 до 10 для отметки')\n",
        "\n",
        "\n",
        "class Mentor:\n",
        "    def __init__(self, name, surname):\n",
        "        self.name = name\n",
        "        self.surname = surname\n",
        "        self.courses_attached = []\n",
        "        # self.students = students\n",
        "        self.grades = {}\n",
        "\n",
        "\n",
        "    def rate_hw(self, student, course, grade):\n",
        "        if course in self.courses_attached:\n",
        "            if course in self.grades:\n",
        "                self.grades[course][student] = grade\n",
        "            else:\n",
        "                self.grades[course] = {student: grade}\n",
        "\n",
        "    def __int__(self):\n",
        "        return len(self.courses_attached)\n",
        "\n",
        "\n",
        "\n",
        "class Reviewer(Mentor):\n",
        "    def __init__(self, name, surname):\n",
        "        super().__init__(name, surname)\n",
        "        self.reviewer_courses = []\n",
        "\n",
        "    def add_reviewer_course(self, course_name):\n",
        "        self.reviewer_courses.append(course_name)\n",
        "\n",
        "    def __str__(self):\n",
        "        return (f\"Имя: {self.name} \\n\"\n",
        "                f\"Фамилия: {self.surname}\")\n",
        "\n",
        "    def rate_student(self, student, course, grade):\n",
        "        if (\n",
        "                course in student.courses_in_progress or course in student.finished_courses) and course in self.courses_attached and (\n",
        "                10 >= grade > 0):\n",
        "            if course in student.grades:\n",
        "                student.grades[course].append(grade)\n",
        "            else:\n",
        "                student.grades[course] = [grade]\n",
        "        else:\n",
        "            print('Выставлена неправильная отметка, число должно быть от 1 до 10')\n",
        "\n",
        "    def __bool__(self):\n",
        "        pass\n",
        "\n",
        "\n",
        "class Lecturer(Mentor):\n",
        "    def __init__(self, name, surname):\n",
        "        super().__init__(name, surname)\n",
        "        self.lecturer_courses = []\n",
        "\n",
        "    def __str__(self):\n",
        "        return (f\"Имя: {self.name} \\n\"\n",
        "                f\"Фамилия: {self.surname} \\n\"\n",
        "                f\"Средняя оценка за лекции: {self.get_average_grade_of_lector()}\")\n",
        "\n",
        "    def get_average_grade_of_lector(self):\n",
        "        grades_dictionary = self.grades\n",
        "        n = len(grades_dictionary)\n",
        "        sum_grades = sum([sum(grades_dictionary[x]) for x in grades_dictionary])\n",
        "        return sum_grades / n\n",
        "\n",
        "    def __bool__(self):\n",
        "        if self.get_average_grade_of_lector() == 10.0:\n",
        "            return True\n",
        "        else:\n",
        "            return False\n",
        "\n",
        "\n",
        "# 4.3\n",
        "student1 = Student(\"Денис\", \"Степанов\", \"Мужской\")\n",
        "reviewer1 = Reviewer(\"Андрей\", \"Пучков\")\n",
        "reviewer2 = Reviewer('Артём', 'Беспечалов')\n",
        "lecturer1 = Lecturer(\"Матвей\", \"Афанасьев\")\n",
        "print()\n",
        "student1.add_courses('Физика')\n",
        "student1.courses_in_progress.append(\"Математика\")\n",
        "\n",
        "reviewer1.courses_attached.append(\"Математика\")\n",
        "reviewer2.courses_attached.append('Физика')\n",
        "reviewer1.courses_attached.append(\"Математика\")\n",
        "lecturer1.courses_attached.append(\"Математика\")\n",
        "\n",
        "reviewer2.rate_student(student1, 'Физика', 10)\n",
        "reviewer1.rate_student(student1, \"Математика\", 5)\n",
        "student1.rate_lecturer(lecturer1, \"Математика\", 10)\n",
        "\n",
        "print(str(student1))\n",
        "print(f\"Курсов окончено + Курсы в процессе обучения: {int(student1)}\")\n",
        "print(f\"Является ли студент отличником: {bool(student1)}\")\n",
        "print()\n",
        "print(str(lecturer1))\n",
        "print(f\"Прикреплено предметов: {int(lecturer1)}\")\n",
        "print(f\"Лектор красавчик?: {bool(lecturer1)}\")\n",
        "print()\n",
        "print(str(reviewer1))\n",
        "print(f\"Прикреплено предметов: {int(reviewer1)}\")\n"
      ],
      "metadata": {
        "id": "WNCf9PPMu4Gv",
        "outputId": "f3e40f06-688c-489e-d9a6-39e41a5f6a98",
        "colab": {
          "base_uri": "https://localhost:8080/"
        }
      },
      "execution_count": 2,
      "outputs": [
        {
          "output_type": "stream",
          "name": "stdout",
          "text": [
            "\n",
            "Имя: Денис \n",
            "Фамилия: Степанов \n",
            "Средняя оценка за домашние задания:  7.5\n",
            "Курсы в процессе обучения: ['Математика'] \n",
            "Завершённые курсы: ['Физика']\n",
            "Курсов окончено + Курсы в процессе обучения: 2\n",
            "Является ли студент отличником: False\n",
            "\n",
            "Имя: Матвей \n",
            "Фамилия: Афанасьев \n",
            "Средняя оценка за лекции: 10.0\n",
            "Прикреплено предметов: 1\n",
            "Лектор красавчик?: True\n",
            "\n",
            "Имя: Андрей \n",
            "Фамилия: Пучков\n",
            "Прикреплено предметов: 2\n"
          ]
        }
      ]
    },
    {
      "cell_type": "markdown",
      "source": [
        "### **4.4. Тестирование**\n",
        "\n",
        "Создайте по 2 экземпляра каждого класса, вызовите все созданные методы, а также реализуйте две функции:\n",
        "\n",
        "* для подсчета средней оценки за домашние задания по всем студентам в рамках конкретного курса (в качестве аргументов принимаем список студентов и название курса);\n",
        "* для подсчета средней оценки за лекции всех лекторов в рамках курса (в качестве аргумента принимаем список лекторов и название курса)."
      ],
      "metadata": {
        "id": "X8xvLNT6u4Nn"
      }
    },
    {
      "cell_type": "code",
      "source": [
        "class Student:\n",
        "    def __init__(self, name, surname, gender):\n",
        "        self.name = name\n",
        "        self.surname = surname\n",
        "        self.gender = gender\n",
        "        self.finished_courses = []\n",
        "        self.courses_in_progress = []\n",
        "        self.grades = {}\n",
        "\n",
        "    def add_course(self, course_name):\n",
        "        self.finished_courses.append(course_name)\n",
        "\n",
        "    def rate_hw(self, course, grade):\n",
        "        self.grades.setdefault(course, []).append(grade)\n",
        "\n",
        "\n",
        "class Mentor:\n",
        "    def __init__(self, name, surname,students):\n",
        "        self.name = name\n",
        "        self.surname = surname\n",
        "        self.courses_attached = []\n",
        "        self.students = students\n",
        "\n",
        "    def rate_hw(self, student, course, grade):\n",
        "        if course in self.courses_attached and isinstance(student, Student):\n",
        "            student.rate_hw(course, grade)\n",
        "\n",
        "\n",
        "def calculate_average_grade(students, course):\n",
        "    total_grades = 0\n",
        "    total_students = 0\n",
        "    for student in students:\n",
        "        if course in student.grades:\n",
        "            total_grades += sum(student.grades[course])\n",
        "            total_students += len(student.grades[course])\n",
        "    if total_students == 0:\n",
        "        return 0\n",
        "    return total_grades / total_students\n",
        "\n",
        "\n",
        "def calculate_average_lecture_grade(mentors, course,students):\n",
        "    total_grades = 0\n",
        "    total_mentors = 0\n",
        "    for mentor in mentors:\n",
        "        if course in mentor.courses_attached:\n",
        "            total_grades += sum(grade for student in students if course in student.grades for grade in student.grades[course])\n",
        "            total_mentors += len([student for student in students if course in student.grades])\n",
        "    if total_mentors == 0:\n",
        "        return 0\n",
        "    return total_grades / total_mentors\n",
        "\n",
        "student1 = Student(\"Евгений\", \"Жириновский\", \"мужской\")\n",
        "student2 = Student(\"Тарас\", \"Бульба\", \"мужской\")\n",
        "\n",
        "mentor1 = Mentor(\"Михаил\", \"Петрович\",[student1,student2])\n",
        "mentor2 = Mentor(\"Джон\", \"Уик\",[student1,student2])\n",
        "\n",
        "student1.add_course(\"Математика\")\n",
        "student2.add_course(\"Физика\")\n",
        "\n",
        "mentor1.courses_attached = [\"Математика\"]\n",
        "mentor2.courses_attached = [\"Физика\"]\n",
        "\n",
        "mentor1.rate_hw(student1, \"Математика\", 90)\n",
        "mentor2.rate_hw(student1, \"Физика\", 85)\n",
        "mentor2.rate_hw(student2, \"Физика\", 92)\n",
        "\n",
        "average_grade_math = calculate_average_grade([student1, student2], \"Математика\")\n",
        "average_grade_physics = calculate_average_grade([student1, student2], \"Физика\")\n",
        "average_lecture_grade_math = calculate_average_lecture_grade([mentor1, mentor2], \"Математика\",[student1,student2])\n",
        "average_lecture_grade_physics = calculate_average_lecture_grade([mentor1, mentor2], \"Физика\",[student1,student2])\n",
        "\n",
        "print(f\"Средняя оценка за Математику: {average_grade_math}\")\n",
        "print(f\"Средняя оценка за Физику: {average_grade_physics}\")\n",
        "print(f\"Средняя оценка за лекции по Математике: {average_lecture_grade_math}\")\n",
        "print(f\"Средняя оценка за лекции по Физике: {average_lecture_grade_physics}\")\n"
      ],
      "metadata": {
        "id": "uh8n08fdu4V_",
        "outputId": "edfd4c54-8573-477d-803e-77da2f802de3",
        "colab": {
          "base_uri": "https://localhost:8080/"
        }
      },
      "execution_count": null,
      "outputs": [
        {
          "output_type": "stream",
          "name": "stdout",
          "text": [
            "Средняя оценка за Математику: 90.0\n",
            "Средняя оценка за Физику: 88.5\n",
            "Средняя оценка за лекции по Математике: 90.0\n",
            "Средняя оценка за лекции по Физике: 88.5\n"
          ]
        }
      ]
    }
  ]
}