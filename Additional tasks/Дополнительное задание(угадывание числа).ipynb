{
  "nbformat": 4,
  "nbformat_minor": 0,
  "metadata": {
    "colab": {
      "provenance": [],
      "authorship_tag": "ABX9TyP1396vTiTwDlaSIxBgfzpB",
      "include_colab_link": true
    },
    "kernelspec": {
      "name": "python3",
      "display_name": "Python 3"
    },
    "language_info": {
      "name": "python"
    }
  },
  "cells": [
    {
      "cell_type": "markdown",
      "metadata": {
        "id": "view-in-github",
        "colab_type": "text"
      },
      "source": [
        "<a href=\"https://colab.research.google.com/github/DanisStepanov/univorsite/blob/main/Additional%20tasks/%D0%94%D0%BE%D0%BF%D0%BE%D0%BB%D0%BD%D0%B8%D1%82%D0%B5%D0%BB%D1%8C%D0%BD%D0%BE%D0%B5%20%D0%B7%D0%B0%D0%B4%D0%B0%D0%BD%D0%B8%D0%B5(%D1%83%D0%B3%D0%B0%D0%B4%D1%8B%D0%B2%D0%B0%D0%BD%D0%B8%D0%B5%20%D1%87%D0%B8%D1%81%D0%BB%D0%B0).ipynb\" target=\"_parent\"><img src=\"https://colab.research.google.com/assets/colab-badge.svg\" alt=\"Open In Colab\"/></a>"
      ]
    },
    {
      "cell_type": "code",
      "execution_count": null,
      "metadata": {
        "id": "s9_5R2n_jSzr"
      },
      "outputs": [],
      "source": [
        "import random\n",
        "bot=random.randint(0,100)\n",
        "print('Бот закадал число',bot)\n",
        "pop=0\n",
        "while True:\n",
        "    a=input('Ввод:')\n",
        "    if a=='Выход':\n",
        "        break\n",
        "    elif a.isdigit()==False:\n",
        "        print('Введите число:')\n",
        "    elif bot==int(a):\n",
        "        print('Вы угадали число!!!')\n",
        "        break\n",
        "    elif bot > int(a):\n",
        "        print('Число меньше задуманного')\n",
        "    elif bot < int(a):\n",
        "        print('Число больше задуманного задуманного')"
      ]
    }
  ]
}