{
  "nbformat": 4,
  "nbformat_minor": 0,
  "metadata": {
    "colab": {
      "provenance": [],
      "authorship_tag": "ABX9TyPdWwe6cCdpFrue51iljnTp",
      "include_colab_link": true
    },
    "kernelspec": {
      "name": "python3",
      "display_name": "Python 3"
    },
    "language_info": {
      "name": "python"
    }
  },
  "cells": [
    {
      "cell_type": "markdown",
      "metadata": {
        "id": "view-in-github",
        "colab_type": "text"
      },
      "source": [
        "<a href=\"https://colab.research.google.com/github/DanisStepanov/univorsite/blob/main/Extra_tasks/Ex_task_2.ipynb\" target=\"_parent\"><img src=\"https://colab.research.google.com/assets/colab-badge.svg\" alt=\"Open In Colab\"/></a>"
      ]
    },
    {
      "cell_type": "code",
      "execution_count": null,
      "metadata": {
        "colab": {
          "base_uri": "https://localhost:8080/"
        },
        "id": "rw89A-ZmtvVv",
        "outputId": "bc902b5f-65ee-4ccc-9fba-2a989a94751d"
      },
      "outputs": [
        {
          "output_type": "stream",
          "name": "stdout",
          "text": [
            "Выберите пункт:\n",
            "1.Добавить контакт\n",
            "2.Удалить контакт\n",
            "3.Просмотр телефонной книги\n",
            "4.Изменить номер телефона\n",
            "5.Чтобы выйти введите Выход\n",
            "1\n",
            "Введите имя контакта: zxc\n",
            "Введите номер телефона: 432452352\n",
            "\n",
            "Выберите пункт:\n",
            "1.Добавить контакт\n",
            "2.Удалить контакт\n",
            "3.Просмотр телефонной книги\n",
            "4.Изменить номер телефона\n",
            "5.Чтобы выйти введите Выход\n"
          ]
        }
      ],
      "source": [
        "phoneBook = {}\n",
        "def addContact():\n",
        "  nik = str(input(\"Введите имя контакта: \"))\n",
        "  nik = standardizeNik(nik)\n",
        "  if nik in phoneBook.keys():\n",
        "    print(\"Это имя уже есть в телефонной книге\")\n",
        "  nomerPhone = str(input(\"Введите номер телефона: \"))\n",
        "  nomerPhone = standarNumerPhone(nomerPhone)\n",
        "  nomerPhone = nomerPhone + \"0\" * (12 - len(nomerPhone))\n",
        "  phoneBook[nik] = nomerPhone\n",
        "  print('')\n",
        "def standarNumerPhone(nomerPhone):\n",
        "  if nomerPhone[0] == \"8\":\n",
        "    nomerPhone = nomerPhone.replace(\"8\", \"+7\", 1)\n",
        "  elif nomerPhone[0] == \"7\":\n",
        "    nomerPhone = nomerPhone.replace(\"7\", \"+7\", 1)\n",
        "  elif nomerPhone[:2] != \"+7\":\n",
        "    nomerPhone = \"+7\" + nomerPhone\n",
        "  nomerPhone = (nomerPhone + \"0\" * (12 - len(nomerPhone)))[:12]\n",
        "  return nomerPhone\n",
        "def delContact():\n",
        "  nik = str(input(\"Введите имя: \"))\n",
        "  if checkName(nik) == False:\n",
        "    print(\"Такого имени нет в телефонной книге!\\n\")\n",
        "    return\n",
        "  delPhone = phoneBook.pop(nik)\n",
        "  print(f\"Номер: {delPhone} удалён из телефонной книге\")\n",
        "def watchPhoneBook():\n",
        "  print(\"Список контактов:\")\n",
        "  if len(phoneBook) == 0:\n",
        "    print(\"Пусто\")\n",
        "    return\n",
        "  for nik, numberPhone in phoneBook.items():\n",
        "    print(nik, numberPhone)\n",
        "  print(\"\")\n",
        "def changePhoneNomer():\n",
        "  nik = str(input(\"Введите имя: \"))\n",
        "  if checkName(nik) == False:\n",
        "    print(\"Такого имени нет в телефонной книге!\")\n",
        "    return\n",
        "  newNomerPhone = str(input(\"Введите изменённый номер телефона: \"))\n",
        "  newNomerPhone = standarNumerPhone(newNomerPhone)\n",
        "  oldNomerPhone = phoneBook[nik]\n",
        "  phoneBook[nik] = newNomerPhone\n",
        "  print(f\"{oldNomerPhone} изменён на {newNomerPhone}\\n\")\n",
        "def standardizeNik(nik):\n",
        "  nik = nik.split()\n",
        "  for i in range(len(nik)):\n",
        "    nik[i] = nik[i].title()\n",
        "  return \" \".join(nik)\n",
        "def checkName(nik):\n",
        "  if nik in phoneBook:\n",
        "    return True\n",
        "  else:\n",
        "    return False\n",
        "while True:\n",
        "  print(\"Выберите пункт:\")\n",
        "  print  (\"1.Добавить контакт\")\n",
        "  print  (\"2.Удалить контакт\")\n",
        "  print  (\"3.Просмотр телефонной книги\")\n",
        "  print  (\"4.Изменить номер телефона\")\n",
        "  print  (\"5.Чтобы выйти введите Выход\")\n",
        "  clientInput = str(input())\n",
        "  if clientInput == '1':\n",
        "    addContact()\n",
        "  elif clientInput == '2':\n",
        "    delContact()\n",
        "  elif clientInput == '3':\n",
        "    watchPhoneBook()\n",
        "  elif clientInput == '4':\n",
        "    changePhoneNomer()\n",
        "  elif clientInput == 'Выход':\n",
        "    break\n",
        "  else:\n",
        "    print(\"Введено неправильное значение!\")"
      ]
    }
  ]
}